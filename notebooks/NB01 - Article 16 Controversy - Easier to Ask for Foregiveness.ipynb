{
 "cells": [
  {
   "cell_type": "markdown",
   "metadata": {},
   "source": [
    "# EU Article 16 Controversy\n",
    "\n",
    "This notebook explores decision by EU commissioners to invoke article 16 of the Northern Ireland protocol. After announcing intentions Ireland and the United Kingdom objected and the EU backtracked.\n",
    "\n",
    "This is an interesting example of the _Easier to Ask for Forgiveness than Permission_ principle from Python programming.\n",
    "\n",
    "### Context\n",
    "* News Article: https://www.ft.com/content/c678dc02-c5f5-4717-a7ca-43c0ba3f2b44\n",
    "* Python EAFP: https://www.geeksforgeeks.org/eafp-principle-in-python/"
   ]
  },
  {
   "cell_type": "markdown",
   "metadata": {},
   "source": [
    "### Define Objects"
   ]
  },
  {
   "cell_type": "code",
   "execution_count": 1,
   "metadata": {},
   "outputs": [],
   "source": [
    "class Country():\n",
    "    \n",
    "    def __init__(self, name, EU_member='False'):\n",
    "        self.name = name\n",
    "        self.EU_member = EU_member\n",
    "    \n",
    "\n",
    "class Objection(Exception):\n",
    "\n",
    "    def __init__(self, message):\n",
    "        self.message = message\n",
    "    \n",
    "class Article:\n",
    "    \n",
    "    def __init__(self, number, relevant_countries):\n",
    "        self.number = number\n",
    "        self.status = 'not_invoked'\n",
    "    \n",
    "    def invoke(self):\n",
    "        if self.objectors != None:\n",
    "            raise Objection('Objections have been raised.')\n",
    "        self.status = 'invoked'\n",
    "        print('Article 16 has been invoked')"
   ]
  },
  {
   "cell_type": "markdown",
   "metadata": {},
   "source": [
    "### Setup"
   ]
  },
  {
   "cell_type": "code",
   "execution_count": 2,
   "metadata": {},
   "outputs": [],
   "source": [
    "# Instantiate the relevant countries\n",
    "Ireland = Country('Ireland', EU_member=True)\n",
    "UK = Country('United_Kingdom', EU_member=False)\n",
    "\n",
    "relevant_countries = [Ireland, UK]"
   ]
  },
  {
   "cell_type": "markdown",
   "metadata": {},
   "source": [
    "### Main Part"
   ]
  },
  {
   "cell_type": "code",
   "execution_count": 3,
   "metadata": {},
   "outputs": [
    {
     "name": "stdout",
     "output_type": "stream",
     "text": [
      "Sorry we made a mistake!\n"
     ]
    }
   ],
   "source": [
    "# Create Article 16\n",
    "article16 = Article(16, relevant_countries)\n",
    "article16.objectors = [Ireland, UK]\n",
    "\n",
    "try: \n",
    "    article16.invoke()\n",
    "    \n",
    "except Objection:\n",
    "    \n",
    "    for country in article16.objectors:\n",
    "        \n",
    "        if country.EU_member == True:\n",
    "            \n",
    "            print(\"Sorry we made a mistake!\")\n",
    "            break"
   ]
  }
 ],
 "metadata": {
  "kernelspec": {
   "display_name": "Python 3",
   "language": "python",
   "name": "python3"
  },
  "language_info": {
   "codemirror_mode": {
    "name": "ipython",
    "version": 3
   },
   "file_extension": ".py",
   "mimetype": "text/x-python",
   "name": "python",
   "nbconvert_exporter": "python",
   "pygments_lexer": "ipython3",
   "version": "3.7.6"
  }
 },
 "nbformat": 4,
 "nbformat_minor": 4
}
